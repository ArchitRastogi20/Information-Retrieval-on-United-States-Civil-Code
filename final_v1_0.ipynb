{
  "cells": [
    {
      "cell_type": "markdown",
      "metadata": {
        "id": "5yB21HLwSKgi"
      },
      "source": [
        "**word2_vec_demo with tfidf wighted average for document vectors**"
      ]
    },
    {
      "cell_type": "code",
      "execution_count": null,
      "metadata": {
        "colab": {
          "base_uri": "https://localhost:8080/"
        },
        "id": "LdDaL7CctUae",
        "outputId": "06510e3d-603b-4ace-e095-fecd41587360"
      },
      "outputs": [
        {
          "name": "stderr",
          "output_type": "stream",
          "text": [
            "[nltk_data] Downloading package stopwords to /root/nltk_data...\n",
            "[nltk_data]   Unzipping corpora/stopwords.zip.\n",
            "[nltk_data] Downloading package punkt to /root/nltk_data...\n",
            "[nltk_data]   Unzipping tokenizers/punkt.zip.\n",
            "[nltk_data] Downloading package wordnet to /root/nltk_data...\n"
          ]
        },
        {
          "data": {
            "text/plain": [
              "True"
            ]
          },
          "execution_count": 1,
          "metadata": {},
          "output_type": "execute_result"
        }
      ],
      "source": [
        "import pandas as pd\n",
        "import numpy as np\n",
        "import json\n",
        "from zipfile import ZipFile\n",
        "import nltk\n",
        "import re\n",
        "from nltk.corpus import stopwords\n",
        "from google.colab import files\n",
        "from nltk.corpus import wordnet\n",
        "import gensim.downloader\n",
        "from gensim.models import KeyedVectors\n",
        "from sklearn.neighbors import NearestNeighbors\n",
        "from sklearn.feature_extraction.text import TfidfVectorizer\n",
        "nltk.download('stopwords')\n",
        "nltk.download('punkt')\n",
        "nltk.download('wordnet')"
      ]
    },
    {
      "cell_type": "code",
      "execution_count": null,
      "metadata": {
        "colab": {
          "background_save": true,
          "base_uri": "https://localhost:8080/",
          "height": 56
        },
        "id": "gprJ-2dJMhc9",
        "outputId": "ef2654af-bc2e-45ef-dd4e-e7c2602b6b48"
      },
      "outputs": [
        {
          "data": {
            "text/html": [
              "\n",
              "     <input type=\"file\" id=\"files-db6f1e01-9e5c-46c4-976d-399e89c25e44\" name=\"files[]\" multiple disabled\n",
              "        style=\"border:none\" />\n",
              "     <output id=\"result-db6f1e01-9e5c-46c4-976d-399e89c25e44\">\n",
              "      Upload widget is only available when the cell has been executed in the\n",
              "      current browser session. Please rerun this cell to enable.\n",
              "      </output>\n",
              "      <script>// Copyright 2017 Google LLC\n",
              "//\n",
              "// Licensed under the Apache License, Version 2.0 (the \"License\");\n",
              "// you may not use this file except in compliance with the License.\n",
              "// You may obtain a copy of the License at\n",
              "//\n",
              "//      http://www.apache.org/licenses/LICENSE-2.0\n",
              "//\n",
              "// Unless required by applicable law or agreed to in writing, software\n",
              "// distributed under the License is distributed on an \"AS IS\" BASIS,\n",
              "// WITHOUT WARRANTIES OR CONDITIONS OF ANY KIND, either express or implied.\n",
              "// See the License for the specific language governing permissions and\n",
              "// limitations under the License.\n",
              "\n",
              "/**\n",
              " * @fileoverview Helpers for google.colab Python module.\n",
              " */\n",
              "(function(scope) {\n",
              "function span(text, styleAttributes = {}) {\n",
              "  const element = document.createElement('span');\n",
              "  element.textContent = text;\n",
              "  for (const key of Object.keys(styleAttributes)) {\n",
              "    element.style[key] = styleAttributes[key];\n",
              "  }\n",
              "  return element;\n",
              "}\n",
              "\n",
              "// Max number of bytes which will be uploaded at a time.\n",
              "const MAX_PAYLOAD_SIZE = 100 * 1024;\n",
              "\n",
              "function _uploadFiles(inputId, outputId) {\n",
              "  const steps = uploadFilesStep(inputId, outputId);\n",
              "  const outputElement = document.getElementById(outputId);\n",
              "  // Cache steps on the outputElement to make it available for the next call\n",
              "  // to uploadFilesContinue from Python.\n",
              "  outputElement.steps = steps;\n",
              "\n",
              "  return _uploadFilesContinue(outputId);\n",
              "}\n",
              "\n",
              "// This is roughly an async generator (not supported in the browser yet),\n",
              "// where there are multiple asynchronous steps and the Python side is going\n",
              "// to poll for completion of each step.\n",
              "// This uses a Promise to block the python side on completion of each step,\n",
              "// then passes the result of the previous step as the input to the next step.\n",
              "function _uploadFilesContinue(outputId) {\n",
              "  const outputElement = document.getElementById(outputId);\n",
              "  const steps = outputElement.steps;\n",
              "\n",
              "  const next = steps.next(outputElement.lastPromiseValue);\n",
              "  return Promise.resolve(next.value.promise).then((value) => {\n",
              "    // Cache the last promise value to make it available to the next\n",
              "    // step of the generator.\n",
              "    outputElement.lastPromiseValue = value;\n",
              "    return next.value.response;\n",
              "  });\n",
              "}\n",
              "\n",
              "/**\n",
              " * Generator function which is called between each async step of the upload\n",
              " * process.\n",
              " * @param {string} inputId Element ID of the input file picker element.\n",
              " * @param {string} outputId Element ID of the output display.\n",
              " * @return {!Iterable<!Object>} Iterable of next steps.\n",
              " */\n",
              "function* uploadFilesStep(inputId, outputId) {\n",
              "  const inputElement = document.getElementById(inputId);\n",
              "  inputElement.disabled = false;\n",
              "\n",
              "  const outputElement = document.getElementById(outputId);\n",
              "  outputElement.innerHTML = '';\n",
              "\n",
              "  const pickedPromise = new Promise((resolve) => {\n",
              "    inputElement.addEventListener('change', (e) => {\n",
              "      resolve(e.target.files);\n",
              "    });\n",
              "  });\n",
              "\n",
              "  const cancel = document.createElement('button');\n",
              "  inputElement.parentElement.appendChild(cancel);\n",
              "  cancel.textContent = 'Cancel upload';\n",
              "  const cancelPromise = new Promise((resolve) => {\n",
              "    cancel.onclick = () => {\n",
              "      resolve(null);\n",
              "    };\n",
              "  });\n",
              "\n",
              "  // Wait for the user to pick the files.\n",
              "  const files = yield {\n",
              "    promise: Promise.race([pickedPromise, cancelPromise]),\n",
              "    response: {\n",
              "      action: 'starting',\n",
              "    }\n",
              "  };\n",
              "\n",
              "  cancel.remove();\n",
              "\n",
              "  // Disable the input element since further picks are not allowed.\n",
              "  inputElement.disabled = true;\n",
              "\n",
              "  if (!files) {\n",
              "    return {\n",
              "      response: {\n",
              "        action: 'complete',\n",
              "      }\n",
              "    };\n",
              "  }\n",
              "\n",
              "  for (const file of files) {\n",
              "    const li = document.createElement('li');\n",
              "    li.append(span(file.name, {fontWeight: 'bold'}));\n",
              "    li.append(span(\n",
              "        `(${file.type || 'n/a'}) - ${file.size} bytes, ` +\n",
              "        `last modified: ${\n",
              "            file.lastModifiedDate ? file.lastModifiedDate.toLocaleDateString() :\n",
              "                                    'n/a'} - `));\n",
              "    const percent = span('0% done');\n",
              "    li.appendChild(percent);\n",
              "\n",
              "    outputElement.appendChild(li);\n",
              "\n",
              "    const fileDataPromise = new Promise((resolve) => {\n",
              "      const reader = new FileReader();\n",
              "      reader.onload = (e) => {\n",
              "        resolve(e.target.result);\n",
              "      };\n",
              "      reader.readAsArrayBuffer(file);\n",
              "    });\n",
              "    // Wait for the data to be ready.\n",
              "    let fileData = yield {\n",
              "      promise: fileDataPromise,\n",
              "      response: {\n",
              "        action: 'continue',\n",
              "      }\n",
              "    };\n",
              "\n",
              "    // Use a chunked sending to avoid message size limits. See b/62115660.\n",
              "    let position = 0;\n",
              "    do {\n",
              "      const length = Math.min(fileData.byteLength - position, MAX_PAYLOAD_SIZE);\n",
              "      const chunk = new Uint8Array(fileData, position, length);\n",
              "      position += length;\n",
              "\n",
              "      const base64 = btoa(String.fromCharCode.apply(null, chunk));\n",
              "      yield {\n",
              "        response: {\n",
              "          action: 'append',\n",
              "          file: file.name,\n",
              "          data: base64,\n",
              "        },\n",
              "      };\n",
              "\n",
              "      let percentDone = fileData.byteLength === 0 ?\n",
              "          100 :\n",
              "          Math.round((position / fileData.byteLength) * 100);\n",
              "      percent.textContent = `${percentDone}% done`;\n",
              "\n",
              "    } while (position < fileData.byteLength);\n",
              "  }\n",
              "\n",
              "  // All done.\n",
              "  yield {\n",
              "    response: {\n",
              "      action: 'complete',\n",
              "    }\n",
              "  };\n",
              "}\n",
              "\n",
              "scope.google = scope.google || {};\n",
              "scope.google.colab = scope.google.colab || {};\n",
              "scope.google.colab._files = {\n",
              "  _uploadFiles,\n",
              "  _uploadFilesContinue,\n",
              "};\n",
              "})(self);\n",
              "</script> "
            ],
            "text/plain": [
              "<IPython.core.display.HTML object>"
            ]
          },
          "metadata": {},
          "output_type": "display_data"
        }
      ],
      "source": [
        "# Please upload the required_data folder here\n",
        "required_data = files.upload()"
      ]
    },
    {
      "cell_type": "code",
      "execution_count": null,
      "metadata": {
        "colab": {
          "base_uri": "https://localhost:8080/",
          "height": 228
        },
        "id": "Z00h6oHuKs3U",
        "outputId": "0ac2534e-a718-42ad-9b24-95205c42fd0c"
      },
      "outputs": [
        {
          "ename": "NameError",
          "evalue": "ignored",
          "output_type": "error",
          "traceback": [
            "\u001b[0;31m---------------------------------------------------------------------------\u001b[0m",
            "\u001b[0;31mNameError\u001b[0m                                 Traceback (most recent call last)",
            "\u001b[0;32m<ipython-input-1-701cedd3f95a>\u001b[0m in \u001b[0;36m<cell line: 3>\u001b[0;34m()\u001b[0m\n\u001b[1;32m      1\u001b[0m \u001b[0;31m# Extract files\u001b[0m\u001b[0;34m\u001b[0m\u001b[0;34m\u001b[0m\u001b[0m\n\u001b[1;32m      2\u001b[0m \u001b[0;34m\u001b[0m\u001b[0m\n\u001b[0;32m----> 3\u001b[0;31m \u001b[0;32mwith\u001b[0m \u001b[0mZipFile\u001b[0m\u001b[0;34m(\u001b[0m\u001b[0;34m'/content/Required_data.zip'\u001b[0m\u001b[0;34m,\u001b[0m \u001b[0;34m'r'\u001b[0m\u001b[0;34m)\u001b[0m \u001b[0;32mas\u001b[0m \u001b[0mzip\u001b[0m\u001b[0;34m:\u001b[0m\u001b[0;34m\u001b[0m\u001b[0;34m\u001b[0m\u001b[0m\n\u001b[0m\u001b[1;32m      4\u001b[0m   \u001b[0mzip\u001b[0m\u001b[0;34m.\u001b[0m\u001b[0mextractall\u001b[0m\u001b[0;34m(\u001b[0m\u001b[0;34m)\u001b[0m\u001b[0;34m\u001b[0m\u001b[0;34m\u001b[0m\u001b[0m\n",
            "\u001b[0;31mNameError\u001b[0m: name 'ZipFile' is not defined"
          ]
        }
      ],
      "source": [
        "# Extract files\n",
        "\n",
        "with ZipFile('/content/Required_data.zip', 'r') as zip:\n",
        "  zip.extractall()"
      ]
    },
    {
      "cell_type": "code",
      "execution_count": null,
      "metadata": {
        "colab": {
          "base_uri": "https://localhost:8080/"
        },
        "id": "BD9lzmp_Q6XK",
        "outputId": "dab08885-2e58-48e0-a03d-0611777bf43c"
      },
      "outputs": [
        {
          "name": "stdout",
          "output_type": "stream",
          "text": [
            "Type 0 for the google news pre-trained model or 1 for the Law2Vec model: 0\n"
          ]
        }
      ],
      "source": [
        "which_model = input('Type 0 for the google news pre-trained model or 1 for the Law2Vec model: ')\n",
        "\n",
        "if which_model == '0':\n",
        "  w2v_model = gensim.downloader.load('word2vec-google-news-300')\n",
        "  dim = 300\n",
        "else:\n",
        "  w2v_model = KeyedVectors.load_word2vec_format('/content/Required_data/Law2Vec.200d.txt', binary=False)\n",
        "  dim = 200"
      ]
    },
    {
      "cell_type": "code",
      "execution_count": null,
      "metadata": {
        "id": "CCdlUfMAemKa"
      },
      "outputs": [],
      "source": [
        "# Load csv table\n",
        "\n",
        "with ZipFile('/content/Required_data/us_code.csv.zip') as z:\n",
        "  with z.open('us_code.csv') as f:\n",
        "    documents_df = pd.read_csv(f)\n",
        "documents_df = documents_df.drop(documents_df.columns[0], axis=1)"
      ]
    },
    {
      "cell_type": "code",
      "execution_count": null,
      "metadata": {
        "colab": {
          "base_uri": "https://localhost:8080/"
        },
        "id": "dJAO6xYJG2aZ",
        "outputId": "6087284b-4d28-445c-afe2-cf263d6d3c25"
      },
      "outputs": [
        {
          "name": "stdout",
          "output_type": "stream",
          "text": [
            "    Index                                          documents  \\\n",
            "0  01.1.1  In determining the meaning of any Act of Congr...   \n",
            "1  01.1.2  The word “ county ” includes a parish , or any...   \n",
            "2  01.1.3  The word “ vessel ” includes every description...   \n",
            "3  01.1.4  The word “ vehicle ” includes every descriptio...   \n",
            "4  01.1.5  The word “ company ” or “ association ” , when...   \n",
            "\n",
            "                                   documents_cleaned  \n",
            "0  determining meaning act congress   unless cont...  \n",
            "1  word   county   includes parish   equivalent s...  \n",
            "2  word   vessel   includes every description wat...  \n",
            "3  word   vehicle   includes every description ca...  \n",
            "4  word   company     association     used refere...  \n"
          ]
        }
      ],
      "source": [
        "print(documents_df.head())"
      ]
    },
    {
      "cell_type": "code",
      "execution_count": null,
      "metadata": {
        "id": "cFc1rU5utWLE"
      },
      "outputs": [],
      "source": [
        "# Define the function to get the vector of a document with the simple average of all word vectors\n",
        "\n",
        "def get_mean_vector(sentence):\n",
        "    vectors = [w2v_model[word] for word in sentence.split() if word in w2v_model]\n",
        "    return sum(vectors) / len(vectors)"
      ]
    },
    {
      "cell_type": "code",
      "execution_count": null,
      "metadata": {
        "id": "SMyEBw2pFwZZ"
      },
      "outputs": [],
      "source": [
        "# Find the embeddings for all the documents, i.e. all sections of the USC\n",
        "\n",
        "document_embeddings = [get_mean_vector(doc) for doc in documents_df['documents_cleaned']]"
      ]
    },
    {
      "cell_type": "code",
      "execution_count": null,
      "metadata": {
        "colab": {
          "base_uri": "https://localhost:8080/",
          "height": 75
        },
        "id": "OjzJyuqBp97c",
        "outputId": "d2e2a033-a7b9-406e-8fb8-08e229450e3c"
      },
      "outputs": [
        {
          "data": {
            "text/html": [
              "<style>#sk-container-id-1 {color: black;background-color: white;}#sk-container-id-1 pre{padding: 0;}#sk-container-id-1 div.sk-toggleable {background-color: white;}#sk-container-id-1 label.sk-toggleable__label {cursor: pointer;display: block;width: 100%;margin-bottom: 0;padding: 0.3em;box-sizing: border-box;text-align: center;}#sk-container-id-1 label.sk-toggleable__label-arrow:before {content: \"▸\";float: left;margin-right: 0.25em;color: #696969;}#sk-container-id-1 label.sk-toggleable__label-arrow:hover:before {color: black;}#sk-container-id-1 div.sk-estimator:hover label.sk-toggleable__label-arrow:before {color: black;}#sk-container-id-1 div.sk-toggleable__content {max-height: 0;max-width: 0;overflow: hidden;text-align: left;background-color: #f0f8ff;}#sk-container-id-1 div.sk-toggleable__content pre {margin: 0.2em;color: black;border-radius: 0.25em;background-color: #f0f8ff;}#sk-container-id-1 input.sk-toggleable__control:checked~div.sk-toggleable__content {max-height: 200px;max-width: 100%;overflow: auto;}#sk-container-id-1 input.sk-toggleable__control:checked~label.sk-toggleable__label-arrow:before {content: \"▾\";}#sk-container-id-1 div.sk-estimator input.sk-toggleable__control:checked~label.sk-toggleable__label {background-color: #d4ebff;}#sk-container-id-1 div.sk-label input.sk-toggleable__control:checked~label.sk-toggleable__label {background-color: #d4ebff;}#sk-container-id-1 input.sk-hidden--visually {border: 0;clip: rect(1px 1px 1px 1px);clip: rect(1px, 1px, 1px, 1px);height: 1px;margin: -1px;overflow: hidden;padding: 0;position: absolute;width: 1px;}#sk-container-id-1 div.sk-estimator {font-family: monospace;background-color: #f0f8ff;border: 1px dotted black;border-radius: 0.25em;box-sizing: border-box;margin-bottom: 0.5em;}#sk-container-id-1 div.sk-estimator:hover {background-color: #d4ebff;}#sk-container-id-1 div.sk-parallel-item::after {content: \"\";width: 100%;border-bottom: 1px solid gray;flex-grow: 1;}#sk-container-id-1 div.sk-label:hover label.sk-toggleable__label {background-color: #d4ebff;}#sk-container-id-1 div.sk-serial::before {content: \"\";position: absolute;border-left: 1px solid gray;box-sizing: border-box;top: 0;bottom: 0;left: 50%;z-index: 0;}#sk-container-id-1 div.sk-serial {display: flex;flex-direction: column;align-items: center;background-color: white;padding-right: 0.2em;padding-left: 0.2em;position: relative;}#sk-container-id-1 div.sk-item {position: relative;z-index: 1;}#sk-container-id-1 div.sk-parallel {display: flex;align-items: stretch;justify-content: center;background-color: white;position: relative;}#sk-container-id-1 div.sk-item::before, #sk-container-id-1 div.sk-parallel-item::before {content: \"\";position: absolute;border-left: 1px solid gray;box-sizing: border-box;top: 0;bottom: 0;left: 50%;z-index: -1;}#sk-container-id-1 div.sk-parallel-item {display: flex;flex-direction: column;z-index: 1;position: relative;background-color: white;}#sk-container-id-1 div.sk-parallel-item:first-child::after {align-self: flex-end;width: 50%;}#sk-container-id-1 div.sk-parallel-item:last-child::after {align-self: flex-start;width: 50%;}#sk-container-id-1 div.sk-parallel-item:only-child::after {width: 0;}#sk-container-id-1 div.sk-dashed-wrapped {border: 1px dashed gray;margin: 0 0.4em 0.5em 0.4em;box-sizing: border-box;padding-bottom: 0.4em;background-color: white;}#sk-container-id-1 div.sk-label label {font-family: monospace;font-weight: bold;display: inline-block;line-height: 1.2em;}#sk-container-id-1 div.sk-label-container {text-align: center;}#sk-container-id-1 div.sk-container {/* jupyter's `normalize.less` sets `[hidden] { display: none; }` but bootstrap.min.css set `[hidden] { display: none !important; }` so we also need the `!important` here to be able to override the default hidden behavior on the sphinx rendered scikit-learn.org. See: https://github.com/scikit-learn/scikit-learn/issues/21755 */display: inline-block !important;position: relative;}#sk-container-id-1 div.sk-text-repr-fallback {display: none;}</style><div id=\"sk-container-id-1\" class=\"sk-top-container\"><div class=\"sk-text-repr-fallback\"><pre>NearestNeighbors(metric=&#x27;cosine&#x27;, n_neighbors=10)</pre><b>In a Jupyter environment, please rerun this cell to show the HTML representation or trust the notebook. <br />On GitHub, the HTML representation is unable to render, please try loading this page with nbviewer.org.</b></div><div class=\"sk-container\" hidden><div class=\"sk-item\"><div class=\"sk-estimator sk-toggleable\"><input class=\"sk-toggleable__control sk-hidden--visually\" id=\"sk-estimator-id-1\" type=\"checkbox\" checked><label for=\"sk-estimator-id-1\" class=\"sk-toggleable__label sk-toggleable__label-arrow\">NearestNeighbors</label><div class=\"sk-toggleable__content\"><pre>NearestNeighbors(metric=&#x27;cosine&#x27;, n_neighbors=10)</pre></div></div></div></div></div>"
            ],
            "text/plain": [
              "NearestNeighbors(metric='cosine', n_neighbors=10)"
            ]
          },
          "execution_count": 16,
          "metadata": {},
          "output_type": "execute_result"
        }
      ],
      "source": [
        "# Define and train the NearestNeighbors model\n",
        "\n",
        "neighborhood = NearestNeighbors(n_neighbors=10,metric=\"cosine\",algorithm=\"auto\",radius=1.0)\n",
        "neighborhood.fit(document_embeddings)"
      ]
    },
    {
      "cell_type": "code",
      "execution_count": null,
      "metadata": {
        "id": "3CIKsplZMEe4"
      },
      "outputs": [],
      "source": [
        "# Define the function to clean text\n",
        "\n",
        "def clean_text(txt):\n",
        "    return \" \".join(re.sub(r'[^a-zA-Z]',' ',w).lower() for w in txt.split() if re.sub(r'[^a-zA-Z]',' ',w).lower() not in stopwords.words('english'))"
      ]
    },
    {
      "cell_type": "code",
      "execution_count": null,
      "metadata": {
        "id": "x6HSxLHsozj4"
      },
      "outputs": [],
      "source": [
        "# Define the function to find similarity with a given query that returns just the 10 most similar predicted indexes\n",
        "\n",
        "def find_similarity(query):\n",
        "\n",
        "  query_cleaned = clean_text(query)\n",
        "\n",
        "  query_vec = get_mean_vector(query_cleaned)\n",
        "\n",
        "  similar_indx = neighborhood.kneighbors([query_vec],return_distance=False)\n",
        "  return list(documents_df.iloc[similar_indx[0],0])"
      ]
    },
    {
      "cell_type": "code",
      "execution_count": null,
      "metadata": {
        "id": "hLRVYr1DpkIR"
      },
      "outputs": [],
      "source": [
        "# Define the function to calculate accuracy as described in the paper\n",
        "\n",
        "def accuracy_score(y_pred, correct_label):\n",
        "\n",
        "  acc = right =  0\n",
        "\n",
        "  if correct_label in y_pred:\n",
        "    return (acc + 1-0.05*y_pred.index(correct_label), right + 1)\n",
        "\n",
        "  else:\n",
        "    correct_label = correct_label.split('.')\n",
        "    for pred_label in y_pred:\n",
        "      buffer = 0\n",
        "\n",
        "      if int(correct_label[0]) == int(pred_label.split('.')[0]):\n",
        "        buffer += 0.2\n",
        "\n",
        "        if correct_label[1] == pred_label.split('.')[0]:\n",
        "          buffer += 0.3\n",
        "\n",
        "      acc += buffer/10\n",
        "    return (acc, right)"
      ]
    },
    {
      "cell_type": "code",
      "execution_count": null,
      "metadata": {
        "id": "cwVM2cWxnLx5"
      },
      "outputs": [],
      "source": [
        "with open('/content/Required_data/queries.json', 'r') as f:\n",
        "  test_data = json.load(f)"
      ]
    },
    {
      "cell_type": "code",
      "execution_count": null,
      "metadata": {
        "id": "fF-pfXXnoa6E"
      },
      "outputs": [],
      "source": [
        "# Go over every test query, predict the labels and campute the accuracy\n",
        "def test(test_data, similarity_func, accuracy = []):\n",
        "\n",
        "  for k,v in test_data.items():\n",
        "    if len(k.split('.')[0]) == 1:\n",
        "      k = '0' + k\n",
        "\n",
        "    if int(k.split('.')[0]) > 0:\n",
        "      for q in v:\n",
        "        y_pred = similarity_func(q)\n",
        "        a = accuracy_score(y_pred, k)\n",
        "        #print('predicted: ', y_pred)\n",
        "        #print('accuracy: ', a)\n",
        "        #print('correct: ', k)\n",
        "        #print(\"\\n\")\n",
        "        accuracy.append(a)\n",
        "  return accuracy"
      ]
    },
    {
      "cell_type": "code",
      "execution_count": null,
      "metadata": {
        "id": "3WTx6hiaQP66"
      },
      "outputs": [],
      "source": [
        "accuracy = test(test_data, find_similarity)"
      ]
    },
    {
      "cell_type": "code",
      "execution_count": null,
      "metadata": {
        "id": "-JWFhMFdI6MO"
      },
      "outputs": [],
      "source": [
        "# Compute accuracy values and print them\n",
        "def print_accuracy(accuracy):\n",
        "  accuracy_value = sum([x[0] for x in accuracy])/len(accuracy)\n",
        "  total_correct = sum([x[1] for x in accuracy])/len(accuracy)\n",
        "  print('Total Accuracy Score: ' + str(accuracy_value))\n",
        "  print('Total percentage of correct: ' + str(total_correct))"
      ]
    },
    {
      "cell_type": "code",
      "execution_count": null,
      "metadata": {
        "colab": {
          "base_uri": "https://localhost:8080/"
        },
        "id": "T_wk04nHRJed",
        "outputId": "00e97242-d9c3-41ea-9362-d143e189553a"
      },
      "outputs": [
        {
          "name": "stdout",
          "output_type": "stream",
          "text": [
            "Total Accuracy Score: 0.5773809523809524\n",
            "Total percentage of correct: 0.6041666666666666\n"
          ]
        }
      ],
      "source": [
        "print_accuracy(accuracy)"
      ]
    },
    {
      "cell_type": "code",
      "execution_count": null,
      "metadata": {
        "colab": {
          "base_uri": "https://localhost:8080/"
        },
        "id": "Uper9UKfJWTt",
        "outputId": "98d0a126-cac5-49d7-99b0-2f4c1ce82fbf"
      },
      "outputs": [
        {
          "name": "stdout",
          "output_type": "stream",
          "text": [
            "Pls enter the query: how do i know if my marriage is valid?\n"
          ]
        }
      ],
      "source": [
        "# Here you can try with a single custom query\n",
        "\n",
        "query = input('Pls enter the query: ')\n",
        "\n",
        "# Or put the code above in a comment and try this sample\n",
        "#query = \"how do i know if my marriage is valid?\""
      ]
    },
    {
      "cell_type": "code",
      "execution_count": null,
      "metadata": {
        "id": "MfQp_fDPKP3k"
      },
      "outputs": [],
      "source": [
        "# Clean the query text and predict results\n",
        "\n",
        "query_cleaned = clean_text(query)\n",
        "query_vec = get_mean_vector(query_cleaned)\n",
        "similar_indx = neighborhood.kneighbors([query_vec],return_distance=False)"
      ]
    },
    {
      "cell_type": "code",
      "execution_count": null,
      "metadata": {
        "colab": {
          "base_uri": "https://localhost:8080/"
        },
        "id": "JOMj5z66KuM8",
        "outputId": "dc4f4b4c-a787-45d5-c119-f06bc0618247"
      },
      "outputs": [
        {
          "name": "stdout",
          "output_type": "stream",
          "text": [
            "01.1.7\n",
            "For the purposes of any Federal law , rule , or regulation in which marital status is a factor , an individual shall be considered married if that individual ’ s marriage is between 2 individuals and is valid in the State where the marriage was entered into or , in the case of a marriage entered into outside any State , if the marriage is between 2 individuals and is valid in the place where entered into and the marriage could have been entered into in a State . In this section , the term “ State ” means a State , the District of Columbia , the Commonwealth of Puerto Rico , or any other territory or possession of the United States . For purposes of subsection ( a ) , in determining whether a marriage is valid in a State or the place where entered into , if outside of any State , only the law of the jurisdiction applicable at the time the marriage was entered into may be considered .\n",
            "\n",
            "37.7.423\n",
            "A payment of an allowance , based on a purported marriage , that is made under this chapter , under the Career Compensation Act of 1949 , or under the Pay Readjustment Act of 1942 , before judicial annulment or termination of that marriage , is valid , if a court of competent jurisdiction adjudges or decrees that the marriage was entered into in good faith on the part of the spouse who is a member of a uniformed service or if , in the absence of such a judgment or decree , such a finding of good faith is made by the Secretary concerned or by a person designated by him to investigate the matter .\n",
            "\n",
            "38.1.103\n",
            "Whenever , in the consideration of any claim filed by a person as the widow or widower of a veteran for gratuitous death benefits under laws administered by the Secretary , it is established by evidence satisfactory to the Secretary that such person , without knowledge of any legal impediment , entered into a marriage with such veteran which , but for a legal impediment , would have been valid , and thereafter cohabited with the veteran for one year or more immediately before the veteran ’ s death , or for any period of time if a child was born of the purported marriage or was born to them before such marriage , the purported marriage shall be deemed to be a valid marriage , but only if no claim has been filed by a legal widow or widower of such veteran who is found to be entitled to such benefits . No duplicate payments shall be made by virtue of this subsection . Where a surviving spouse has been legally married to a veteran more than once , the date of original marriage will be used in determining whether the statutory requirement as to date of marriage has been met . In determining whether or not a person is or was the spouse of a veteran , their marriage shall be proven as valid for the purposes of all laws administered by the Secretary according to the law of the place where the parties resided at the time of the marriage or the law of the place where the parties resided when the right to benefits accrued . The remarriage of the surviving spouse of a veteran shall not bar the furnishing of benefits to such person as the surviving spouse of the veteran if the remarriage is void , or has been annulled by a court with basic authority to render annulment decrees unless the Secretary determines that the annulment was secured through fraud by either party or collusion . The remarriage of the surviving spouse of a veteran shall not bar the furnishing of benefits specified in paragraph ( 5 ) to such person as the surviving spouse of the veteran if the remarriage has been terminated by death or divorce unless the Secretary determines that the divorce was secured through fraud or collusion . The remarriage after age 57 of the surviving spouse of a veteran shall not bar the furnishing of benefits specified in paragraph ( 5 ) to such person as the surviving spouse of the veteran . Notwithstanding the previous sentence , the remarriage after age 55 of the surviving spouse of a veteran shall not bar the furnishing of benefits under chapter 13 or section 1781 of this title to such person as the surviving spouse of the veteran . If the surviving spouse of a veteran ceases living with another person and holding himself or herself out openly to the public as that person ’ s spouse , the bar to granting that person benefits as the surviving spouse of the veteran shall not apply in the case of the benefits specified in paragraph ( 5 ) . The first month of eligibility for benefits for a surviving spouse by reason of paragraph ( 2 ) ( A ) or ( 3 ) shall be the month after— the month of the termination of such remarriage , in the case of a surviving spouse described in paragraph ( 2 ) ( A ) ; or the month of the cessation described in paragraph ( 3 ) , in the case of a surviving spouse described in that paragraph . Paragraphs ( 2 ) ( A ) and ( 3 ) apply with respect to benefits under the following provisions of this title : Section 1311 , relating to dependency and indemnity compensation . Section 1781 , relating to medical care for survivors and dependents of certain veterans . Chapter 35 , relating to educational assistance . Chapter 37 , relating to housing loans . Section 1562 ( a ) ( 2 ) , relating to Medal of Honor special pension . The marriage of a child of a veteran shall not bar recognition of such child as the child of the veteran for benefit purposes if the marriage is void , or has been annulled by a court with basic authority to render annulment decrees unless the Secretary determines that the annulment was secured through fraud by either party or collusion .\n",
            "\n",
            "38.11.1102\n",
            "No compensation shall be paid to the surviving spouse of a veteran under this chapter unless such surviving spouse was married to such veteran— before the expiration of fifteen years after the termination of the period of service in which the injury or disease causing the death of the veteran was incurred or aggravated ; or for one year or more ; or for any period of time if a child was born of the marriage , or was born to them before the marriage . Subsection ( a ) shall not be applicable to any surviving spouse who , with respect to date of marriage , could have qualified as a surviving spouse for death compensation under any law administered by the Secretary in effect on December 31 , 1957 .\n",
            "\n",
            "08.12.1409\n",
            "The provisions of paragraphs ( c ) , ( d ) , ( e ) , and ( g ) of section 1401 of this title , and of paragraph ( 2 ) of section 1408 of this title , shall apply as of the date of birth to a person born out of wedlock if— a blood relationship between the person and the father is established by clear and convincing evidence , the father had the nationality of the United States at the time of the person ’ s birth , the father ( unless deceased ) has agreed in writing to provide financial support for the person until the person reaches the age of 18 years , and while the person is under the age of 18 years— the person is legitimated under the law of the person ’ s residence or domicile , the father acknowledges paternity of the person in writing under oath , or the paternity of the person is established by adjudication of a competent court . Except as otherwise provided in section 405 of this Act , the provisions of section 1401 ( g ) of this title shall apply to a child born out of wedlock on or after January 13 , 1941 , and before December 24 , 1952 , as of the date of birth , if the paternity of such child is established at any time while such child is under the age of twenty-one years by legitimation . Notwithstanding the provision of subsection ( a ) of this section , a person born , after December 23 , 1952 , outside the United States and out of wedlock shall be held to have acquired at birth the nationality status of his mother , if the mother had the nationality of the United States at the time of such person ’ s birth , and if the mother had previously been physically present in the United States or one of its outlying possessions for a continuous period of one year .\n",
            "\n",
            "25.5.182\n",
            "Every Indian woman , member of any such tribe of Indians , who may be married after August 9 , 1888 , to any citizen of the United States , is hereby declared to become by such marriage a citizen of the United States , with all the rights , privileges , and immunities of any such citizen , being a married woman : Provided , That nothing in sections 181 to 183 of this title contained shall impair or in any way affect the right or title of such married woman to any tribal property or any interest therein .\n",
            "\n",
            "08.12.1435\n",
            "Any person formerly a citizen of the United States who ( 1 ) prior to September 22 , 1922 , lost United States citizenship by marriage to an alien , or by the loss of United States citizenship of such person ’ s spouse , or ( 2 ) on or after September 22 , 1922 , lost United States citizenship by marriage to an alien ineligible to citizenship , may if no other nationality was acquired by an affirmative act of such person other than by marriage be naturalized upon compliance with all requirements of this subchapter , except— no period of residence or specified period of physical presence within the United States or within the State or district of the Service in the United States where the application is filed shall be required ; and the application need not set forth that it is the intention of the applicant to reside permanently within the United States . No person who is otherwise eligible for naturalization in accordance with the provisions of subsection ( a ) of this section shall be naturalized unless such person shall establish to the satisfaction of the Attorney General that she has been a person of good moral character , attached to the principles of the Constitution of the United States , and well disposed to the good order and happiness of the United States for a period of not less than five years immediately preceding the date of filing an application for naturalization and up to the time of admission to citizenship , and , unless she has resided continuously in the United States since the date of her marriage , has been lawfully admitted for permanent residence prior to filing her application for naturalization . A woman who was a citizen of the United States at birth and ( A ) who has or is believed to have lost her United States citizenship solely by reason of her marriage prior to September 22 , 1922 , to an alien , or by her marriage on or after such date to an alien ineligible to citizenship , ( B ) whose marriage to such alien shall have terminated subsequent to January 12 , 1941 , and ( C ) who has not acquired by an affirmative act other than by marriage any other nationality , shall , from and after taking the oath of allegiance required by section 1448 of this title , be a citizen of the United States and have the status of a citizen of the United States by birth , without filing an application for naturalization , and notwithstanding any of the other provisions of this subchapter except the provisions of section 1424 of this title : Provided , That nothing contained herein or in any other provision of law shall be construed as conferring United States citizenship retroactively upon such person , or upon any person who was naturalized in accordance with the provisions of section 317 ( b ) of the Nationality Act of 1940 , during any period in which such person was not a citizen . Such oath of allegiance may be taken abroad before a diplomatic or consular officer of the United States , or in the United States before the Attorney General or the judge or clerk of a court described in section 1421 ( b ) of this title . Such oath of allegiance shall be entered in the records of the appropriate embassy , legation , consulate , court , or the Attorney General , and , upon demand , a certified copy of the proceedings , including a copy of the oath administered , under the seal of the embassy , legation , consulate , court , or the Attorney General , shall be delivered to such woman at a cost not exceeding $ 5 , which certified copy shall be evidence of the facts stated therein before any court of record or judicial tribunal and in any department or agency of the Government of the United States . A person who was a citizen of the United States at birth and lost such citizenship for failure to meet the physical presence retention requirements under section 1401 ( b ) of this title ( as in effect before October 10 , 1978 ) , shall , from and after taking the oath of allegiance required by section 1448 of this title be a citizen of the United States and have the status of a citizen of the United States by birth , without filing an application for naturalization , and notwithstanding any of the other provisions of this subchapter except the provisions of section 1424 of this title . Nothing in this subsection or any other provision of law shall be construed as conferring United States citizenship retroactively upon such person during any period in which such person was not a citizen . The provisions of paragraphs ( 2 ) and ( 3 ) of subsection ( c ) shall apply to a person regaining citizenship under paragraph ( 1 ) in the same manner as they apply under subsection ( c ) ( 1 ) .\n",
            "\n",
            "08.12.1422\n",
            "The right of a person to become a naturalized citizen of the United States shall not be denied or abridged because of race or sex or because such person is married .\n",
            "\n",
            "08.12.1489\n",
            "Nothing in this subchapter shall be applied in contravention of the provisions of any treaty or convention to which the United States is a party and which has been ratified by the Senate before December 25 , 1952 : Provided , however , That no woman who was a national of the United States shall be deemed to have lost her nationality solely by reason of her marriage to an alien on or after September 22 , 1922 , or to an alien racially ineligible to citizenship on or after March 3 , 1931 , or , in the case of a woman who was a United States citizen at birth , through residence abroad following such marriage , notwithstanding the provisions of any existing treaty or convention .\n",
            "\n",
            "38.51.5124\n",
            "For purposes of benefits under laws administered by the Secretary , the Secretary may accept the written statement of a claimant as proof of the existence of any relationship specified in subsection ( b ) for the purpose of acting on such individual ’ s claim for benefits . Subsection ( a ) applies to proof of the existence of any of the following relationships between a claimant and another person : Marriage . Dissolution of a marriage . Birth of a child . Death of any family member . The Secretary may require the submission of documentation in support of the claimant ’ s statement if— the claimant does not reside within a State ; the statement on its face raises a question as to its validity ; there is conflicting information of record ; or there is reasonable indication , in the statement or otherwise , of fraud or misrepresentation .\n",
            "\n"
          ]
        }
      ],
      "source": [
        "# Print results\n",
        "idx_list = list(documents_df.iloc[similar_indx[0],0])\n",
        "text_list = list(documents_df.iloc[similar_indx[0],1])\n",
        "\n",
        "for i in range(10):\n",
        "  print(idx_list[i] + '\\n' + text_list[i] + '\\n')"
      ]
    },
    {
      "cell_type": "code",
      "execution_count": null,
      "metadata": {
        "id": "wBaTc9S1NaD4"
      },
      "outputs": [],
      "source": [
        "# Get tf-idf vecotrs\n",
        "\n",
        "tfidfvectoriser = TfidfVectorizer()\n",
        "tfidfvectoriser.fit(documents_df.documents_cleaned)\n",
        "tfidf_vectors = tfidfvectoriser.transform(documents_df.documents_cleaned)\n",
        "\n",
        "# Get the list of all the found words\n",
        "words = tfidfvectoriser.get_feature_names_out()"
      ]
    },
    {
      "cell_type": "code",
      "execution_count": null,
      "metadata": {
        "id": "yXi-AwUnOewz"
      },
      "outputs": [],
      "source": [
        "# Get the embedding matrix of word2vec vectors\n",
        "\n",
        "embedding_matrix=np.zeros((len(words),dim))\n",
        "for i, word in enumerate(words):\n",
        "    if word in w2v_model:\n",
        "        embedding_matrix[i] = w2v_model[word]"
      ]
    },
    {
      "cell_type": "code",
      "execution_count": null,
      "metadata": {
        "id": "TmQ8NFsWOhO2"
      },
      "outputs": [],
      "source": [
        "# Get the document embeddings by weighting the w2v word emebeddings trough the tfidf embeddings\n",
        "document_embeddings_weighted=(tfidf_vectors@embedding_matrix)"
      ]
    },
    {
      "cell_type": "code",
      "execution_count": null,
      "metadata": {
        "colab": {
          "base_uri": "https://localhost:8080/",
          "height": 75
        },
        "id": "rZBhF4dgPC-s",
        "outputId": "e6635509-893d-4fd4-a6c4-fb51d8727ff0"
      },
      "outputs": [
        {
          "data": {
            "text/html": [
              "<style>#sk-container-id-2 {color: black;background-color: white;}#sk-container-id-2 pre{padding: 0;}#sk-container-id-2 div.sk-toggleable {background-color: white;}#sk-container-id-2 label.sk-toggleable__label {cursor: pointer;display: block;width: 100%;margin-bottom: 0;padding: 0.3em;box-sizing: border-box;text-align: center;}#sk-container-id-2 label.sk-toggleable__label-arrow:before {content: \"▸\";float: left;margin-right: 0.25em;color: #696969;}#sk-container-id-2 label.sk-toggleable__label-arrow:hover:before {color: black;}#sk-container-id-2 div.sk-estimator:hover label.sk-toggleable__label-arrow:before {color: black;}#sk-container-id-2 div.sk-toggleable__content {max-height: 0;max-width: 0;overflow: hidden;text-align: left;background-color: #f0f8ff;}#sk-container-id-2 div.sk-toggleable__content pre {margin: 0.2em;color: black;border-radius: 0.25em;background-color: #f0f8ff;}#sk-container-id-2 input.sk-toggleable__control:checked~div.sk-toggleable__content {max-height: 200px;max-width: 100%;overflow: auto;}#sk-container-id-2 input.sk-toggleable__control:checked~label.sk-toggleable__label-arrow:before {content: \"▾\";}#sk-container-id-2 div.sk-estimator input.sk-toggleable__control:checked~label.sk-toggleable__label {background-color: #d4ebff;}#sk-container-id-2 div.sk-label input.sk-toggleable__control:checked~label.sk-toggleable__label {background-color: #d4ebff;}#sk-container-id-2 input.sk-hidden--visually {border: 0;clip: rect(1px 1px 1px 1px);clip: rect(1px, 1px, 1px, 1px);height: 1px;margin: -1px;overflow: hidden;padding: 0;position: absolute;width: 1px;}#sk-container-id-2 div.sk-estimator {font-family: monospace;background-color: #f0f8ff;border: 1px dotted black;border-radius: 0.25em;box-sizing: border-box;margin-bottom: 0.5em;}#sk-container-id-2 div.sk-estimator:hover {background-color: #d4ebff;}#sk-container-id-2 div.sk-parallel-item::after {content: \"\";width: 100%;border-bottom: 1px solid gray;flex-grow: 1;}#sk-container-id-2 div.sk-label:hover label.sk-toggleable__label {background-color: #d4ebff;}#sk-container-id-2 div.sk-serial::before {content: \"\";position: absolute;border-left: 1px solid gray;box-sizing: border-box;top: 0;bottom: 0;left: 50%;z-index: 0;}#sk-container-id-2 div.sk-serial {display: flex;flex-direction: column;align-items: center;background-color: white;padding-right: 0.2em;padding-left: 0.2em;position: relative;}#sk-container-id-2 div.sk-item {position: relative;z-index: 1;}#sk-container-id-2 div.sk-parallel {display: flex;align-items: stretch;justify-content: center;background-color: white;position: relative;}#sk-container-id-2 div.sk-item::before, #sk-container-id-2 div.sk-parallel-item::before {content: \"\";position: absolute;border-left: 1px solid gray;box-sizing: border-box;top: 0;bottom: 0;left: 50%;z-index: -1;}#sk-container-id-2 div.sk-parallel-item {display: flex;flex-direction: column;z-index: 1;position: relative;background-color: white;}#sk-container-id-2 div.sk-parallel-item:first-child::after {align-self: flex-end;width: 50%;}#sk-container-id-2 div.sk-parallel-item:last-child::after {align-self: flex-start;width: 50%;}#sk-container-id-2 div.sk-parallel-item:only-child::after {width: 0;}#sk-container-id-2 div.sk-dashed-wrapped {border: 1px dashed gray;margin: 0 0.4em 0.5em 0.4em;box-sizing: border-box;padding-bottom: 0.4em;background-color: white;}#sk-container-id-2 div.sk-label label {font-family: monospace;font-weight: bold;display: inline-block;line-height: 1.2em;}#sk-container-id-2 div.sk-label-container {text-align: center;}#sk-container-id-2 div.sk-container {/* jupyter's `normalize.less` sets `[hidden] { display: none; }` but bootstrap.min.css set `[hidden] { display: none !important; }` so we also need the `!important` here to be able to override the default hidden behavior on the sphinx rendered scikit-learn.org. See: https://github.com/scikit-learn/scikit-learn/issues/21755 */display: inline-block !important;position: relative;}#sk-container-id-2 div.sk-text-repr-fallback {display: none;}</style><div id=\"sk-container-id-2\" class=\"sk-top-container\"><div class=\"sk-text-repr-fallback\"><pre>NearestNeighbors(metric=&#x27;cosine&#x27;, n_neighbors=10)</pre><b>In a Jupyter environment, please rerun this cell to show the HTML representation or trust the notebook. <br />On GitHub, the HTML representation is unable to render, please try loading this page with nbviewer.org.</b></div><div class=\"sk-container\" hidden><div class=\"sk-item\"><div class=\"sk-estimator sk-toggleable\"><input class=\"sk-toggleable__control sk-hidden--visually\" id=\"sk-estimator-id-2\" type=\"checkbox\" checked><label for=\"sk-estimator-id-2\" class=\"sk-toggleable__label sk-toggleable__label-arrow\">NearestNeighbors</label><div class=\"sk-toggleable__content\"><pre>NearestNeighbors(metric=&#x27;cosine&#x27;, n_neighbors=10)</pre></div></div></div></div></div>"
            ],
            "text/plain": [
              "NearestNeighbors(metric='cosine', n_neighbors=10)"
            ]
          },
          "execution_count": 32,
          "metadata": {},
          "output_type": "execute_result"
        }
      ],
      "source": [
        "# Train the new NearestNeighbors model\n",
        "\n",
        "neighborhood_weighted = NearestNeighbors(n_neighbors=10,metric=\"cosine\",algorithm=\"auto\",radius=1.0,)\n",
        "neighborhood_weighted.fit(document_embeddings_weighted)"
      ]
    },
    {
      "cell_type": "code",
      "execution_count": null,
      "metadata": {
        "id": "Z3RWQ_vGMuut"
      },
      "outputs": [],
      "source": [
        "# Redefine similarity function\n",
        "\n",
        "def find_similarity_weighted(query):\n",
        "\n",
        "  query_cleaned = clean_text(query)\n",
        "  query_tifidf = tfidfvectoriser.transform([query_cleaned])\n",
        "  query_vec = query_tifidf @ embedding_matrix\n",
        "\n",
        "  similar_indx = neighborhood_weighted.kneighbors(query_vec, return_distance=False)\n",
        "\n",
        "  return list(documents_df.iloc[similar_indx[0],0])"
      ]
    },
    {
      "cell_type": "code",
      "execution_count": null,
      "metadata": {
        "id": "Ltaeqbx3PumX"
      },
      "outputs": [],
      "source": [
        "accuracy = test(test_data, find_similarity_weighted)"
      ]
    },
    {
      "cell_type": "code",
      "execution_count": null,
      "metadata": {
        "colab": {
          "base_uri": "https://localhost:8080/"
        },
        "id": "3NxSmpJGQ9HD",
        "outputId": "fdbe8668-f8c6-49fd-87b5-bfde2959f97a"
      },
      "outputs": [
        {
          "name": "stdout",
          "output_type": "stream",
          "text": [
            "Total Accuracy Score: 0.5812499999999995\n",
            "Total percentage of correct: 0.6041666666666666\n"
          ]
        }
      ],
      "source": [
        "print_accuracy(accuracy)"
      ]
    },
    {
      "cell_type": "code",
      "execution_count": null,
      "metadata": {
        "id": "-08d_L4pRnsk"
      },
      "outputs": [],
      "source": [
        "def find_similarity_mixed(query):\n",
        "  query_cleaned = clean_text(query)\n",
        "  query_tifidf = tfidfvectoriser.transform([query_cleaned])\n",
        "  query_vec_weighted = query_tifidf@embedding_matrix\n",
        "\n",
        "  query_list = query_cleaned.split(\" \")\n",
        "  query_mat=np.zeros((len(query_list), dim))\n",
        "  for i, word in enumerate(query_list):\n",
        "    if word in w2v_model:\n",
        "      query_mat[i] = w2v_model[word]\n",
        "\n",
        "  query_vec_unweighted = np.array([query_mat.mean(axis=0).T])\n",
        "\n",
        "  query_vec=(query_vec_weighted*0.5+query_vec_unweighted*0.5)\n",
        "\n",
        "  similar_indx = neighborhood_weighted.kneighbors(query_vec, return_distance=False)\n",
        "  return list(documents_df.iloc[similar_indx[0],0])"
      ]
    },
    {
      "cell_type": "code",
      "execution_count": null,
      "metadata": {
        "id": "AYN8z_wOTI-R"
      },
      "outputs": [],
      "source": [
        "accuracy = test(test_data, find_similarity_mixed)"
      ]
    },
    {
      "cell_type": "code",
      "execution_count": null,
      "metadata": {
        "colab": {
          "base_uri": "https://localhost:8080/"
        },
        "id": "qyiiypinTTMd",
        "outputId": "7761174d-c589-46dc-ecea-de04dcdece91"
      },
      "outputs": [
        {
          "name": "stdout",
          "output_type": "stream",
          "text": [
            "Total Accuracy Score: 0.5859623015873011\n",
            "Total percentage of correct: 0.6101190476190477\n"
          ]
        }
      ],
      "source": [
        "print_accuracy(accuracy)"
      ]
    },
    {
      "cell_type": "code",
      "execution_count": null,
      "metadata": {
        "id": "eHhEgi5mTc_k"
      },
      "outputs": [],
      "source": [
        "def find_synonims(word):\n",
        "  synonyms = set()\n",
        "  for syn in wordnet.synsets(word):\n",
        "      for lm in syn.lemmas():\n",
        "              synonyms.add(lm.name())\n",
        "  return synonyms"
      ]
    },
    {
      "cell_type": "code",
      "execution_count": null,
      "metadata": {
        "id": "6wZkkQEGT_3B"
      },
      "outputs": [],
      "source": [
        "def find_similarity_syn(query):\n",
        "  query_cleaned = clean_text(query)\n",
        "  query_list = query_cleaned.split()\n",
        "\n",
        "  query_list_syn=[]\n",
        "  for word in query_list:\n",
        "    if word in words:\n",
        "      query_list_syn.append(word)\n",
        "    else:\n",
        "      for syn in find_synonims(word):\n",
        "        if syn in words:\n",
        "          query_list_syn.append(word)\n",
        "\n",
        "  query_syn_cleaned = \" \".join(re.sub(r'[^a-zA-Z]',' ',w).lower() for w in query_list_syn)\n",
        "\n",
        "  query_tifidf = tfidfvectoriser.transform([query_syn_cleaned])\n",
        "\n",
        "  query_vec = query_tifidf @ embedding_matrix\n",
        "\n",
        "  similar_indx = neighborhood_weighted.kneighbors(query_vec, return_distance=False)\n",
        "  return list(documents_df.iloc[similar_indx[0],0])\n"
      ]
    },
    {
      "cell_type": "code",
      "execution_count": null,
      "metadata": {
        "id": "qpBeD1QKcBrX"
      },
      "outputs": [],
      "source": [
        "accuracy = test(test_data, find_similarity_syn)"
      ]
    },
    {
      "cell_type": "code",
      "execution_count": null,
      "metadata": {
        "colab": {
          "base_uri": "https://localhost:8080/"
        },
        "id": "TEykqp4-cMMR",
        "outputId": "c5844d73-f76c-4905-db86-39db16d7eaa0"
      },
      "outputs": [
        {
          "name": "stdout",
          "output_type": "stream",
          "text": [
            "Total Accuracy Score: 0.5850146842878118\n",
            "Total percentage of correct: 0.6079295154185022\n"
          ]
        }
      ],
      "source": [
        "print_accuracy(accuracy)"
      ]
    }
  ],
  "metadata": {
    "colab": {
      "provenance": []
    },
    "kernelspec": {
      "display_name": "Python 3",
      "name": "python3"
    },
    "language_info": {
      "name": "python"
    }
  },
  "nbformat": 4,
  "nbformat_minor": 0
}